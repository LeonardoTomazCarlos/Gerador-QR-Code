{
 "cells": [
  {
   "cell_type": "code",
   "execution_count": null,
   "id": "322b457f",
   "metadata": {},
   "outputs": [],
   "source": [
    "import qrcode\n",
    "\n",
    "# Criar o objeto QR Code\n",
    "\n",
    "qr = qrcode.QRCode(\n",
    "     version=1,\n",
    "    error_correction=qrcode.constants.ERROR_CORRECT_L,\n",
    "    Box_size=10,\n",
    "    border=10,\n",
    ")\n",
    "\n",
    "# Adiciona o texto ao QR Code\n",
    "\n",
    "qr.add_data('Texto que teste')\n",
    "\n",
    "#Gerar o QR Code\n",
    "qr.make(fit=True)\n",
    "\n",
    "#Ciar um objeto de imagem \n",
    "img = qr.make_image(fill_color=\"black\", back_color=\"white\")\n",
    "\n",
    "#Salva a imagem em um arquivo\n",
    "img.save('qr_code.png')"
   ]
  }
 ],
 "metadata": {
  "kernelspec": {
   "display_name": "Python 3 (ipykernel)",
   "language": "python",
   "name": "python3"
  },
  "language_info": {
   "codemirror_mode": {
    "name": "ipython",
    "version": 3
   },
   "file_extension": ".py",
   "mimetype": "text/x-python",
   "name": "python",
   "nbconvert_exporter": "python",
   "pygments_lexer": "ipython3",
   "version": "3.11.5"
  }
 },
 "nbformat": 4,
 "nbformat_minor": 5
}
